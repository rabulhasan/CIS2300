{
 "cells": [
  {
   "cell_type": "markdown",
   "id": "514f63cc",
   "metadata": {},
   "source": [
    "## 6.1"
   ]
  },
  {
   "cell_type": "markdown",
   "id": "9629ecf8",
   "metadata": {},
   "source": [
    "open(r'C:\\Users\\Blake\\temp\\test.txt', 'w') **r** prefix specifies that the string is raw string"
   ]
  },
  {
   "cell_type": "code",
   "execution_count": null,
   "id": "e07e9fcf",
   "metadata": {},
   "outputs": [],
   "source": [
    "\n",
    "read_file = open('courses.txt', 'r')\n",
    "\n",
    "file_content = read_file.read()\n",
    "read_file.close()\n",
    "print(file_content)"
   ]
  },
  {
   "cell_type": "markdown",
   "id": "d607cfc3",
   "metadata": {},
   "source": [
    "When a file is opened for reading, a special value known as a ***read position*** is internally maintained for that file."
   ]
  },
  {
   "cell_type": "code",
   "execution_count": null,
   "id": "fcc18d9b",
   "metadata": {},
   "outputs": [],
   "source": [
    "def main():\n",
    "    print(\"Enter the three names of three friends.\")\n",
    "    name1 = input(\"friends #1: \")\n",
    "    name2 = input(\"friends #2: \")\n",
    "    name3 = input(\"friends #3: \")\n",
    "    \n",
    "    myfile = open(\"friends.txt\",\"w\")\n",
    "    \n",
    "    myfile.write(name1 + \"\\n\")\n",
    "    myfile.write(name2 + \"\\n\")\n",
    "    myfile.write(name3 + \"\\n\")\n",
    "    \n",
    "    myfile.close()\n",
    "    print('the names were written to friends.txt')\n",
    "    \n",
    "main()"
   ]
  },
  {
   "cell_type": "markdown",
   "id": "3e3ab042",
   "metadata": {},
   "source": [
    "**rstrip** used to strip or remove \\n from the right of a string"
   ]
  },
  {
   "cell_type": "code",
   "execution_count": null,
   "id": "3779cc8d",
   "metadata": {},
   "outputs": [],
   "source": [
    "read_file = open('friends.txt', 'r')\n",
    "\n",
    "file_content = read_file.read()\n",
    "read_file.close()\n",
    "print(file_content)"
   ]
  },
  {
   "cell_type": "markdown",
   "id": "08e2612f",
   "metadata": {},
   "source": [
    "When you use the 'w' mode to open an output file and a file with the specified filename\n",
    "already exists on the disk, the existing file will be deleted and a new empty file with the\n",
    "same name will be created."
   ]
  },
  {
   "cell_type": "code",
   "execution_count": null,
   "id": "5c78280f",
   "metadata": {},
   "outputs": [],
   "source": [
    "def main():\n",
    "    outfile = open(\"number.txt\",\"w\")\n",
    "    \n",
    "    num1 = int(input(\"enter a number: \"))\n",
    "    num2 = int(input(\"enter another number: \"))\n",
    "    \n",
    "    #writting in a file should be str() otherwise it gives an error\n",
    "    outfile.write(str(num1) +\"\\n\") \n",
    "    outfile.write(str(num2) +'\\n') \n",
    "    \n",
    "    outfile.close()\n",
    "    \n",
    "    \n",
    "    \n",
    "main()"
   ]
  },
  {
   "cell_type": "code",
   "execution_count": null,
   "id": "d0f8c56b",
   "metadata": {},
   "outputs": [],
   "source": [
    "def main():\n",
    "    infile = open(\"number.txt\",'r')\n",
    "    num1 = int(infile.readline())\n",
    "    num2 = int(infile.readline())\n",
    "    \n",
    "    infile.close()\n",
    "    \n",
    "    total = num1 + num2\n",
    "    print(total)\n",
    "    \n",
    "main()\n",
    "    "
   ]
  },
  {
   "cell_type": "markdown",
   "id": "4c9280f1",
   "metadata": {},
   "source": [
    "## 6.2"
   ]
  },
  {
   "cell_type": "code",
   "execution_count": 16,
   "id": "714699f8",
   "metadata": {},
   "outputs": [
    {
     "name": "stdout",
     "output_type": "stream",
     "text": [
      "for how many days do you have sales?: 5\n",
      "enter the sales for day 1: 45\n",
      "enter the sales for day 2: 25\n",
      "enter the sales for day 3: 45\n",
      "enter the sales for day 4: 65\n",
      "enter the sales for day 5: 45\n",
      "\n",
      "\n",
      "sales #1:  45.0\n",
      "\n",
      "sales #2:  25.0\n",
      "\n",
      "sales #3:  45.0\n",
      "\n",
      "sales #4:  65.0\n",
      "\n",
      "sales #5:  45.0\n",
      "\n",
      "the total amount of sales is: $225.00\n"
     ]
    }
   ],
   "source": [
    "def write_file():\n",
    "    # Get the number of days.\n",
    "    num_days = int(input('for how many days do you have sales?: '))\n",
    "    \n",
    "    # Open a new file named sales.txt.\n",
    "    sales_file = open('sales.txt','w')\n",
    "    \n",
    "    for count in range(1, num_days+1):\n",
    "        sales = float(input(f'enter the sales for day {count}: '))\n",
    "        \n",
    "        # Write the sales amount to the file.\n",
    "        sales_file.write(f' {sales}\\n')\n",
    "        \n",
    "    sales_file.close()\n",
    "    \n",
    "def while_read_file():\n",
    "    #open the sales.txt file for reading\n",
    "    sales_file = open('sales.txt','r')\n",
    "    \n",
    "    #read the first line form the file, but dont convert\n",
    "    # to a number yer. we still need to test for an empty string\n",
    "    line = sales_file.readline()\n",
    "    \n",
    "    #as long as an empty string is not returned from readline\n",
    "    #contine processing\n",
    "    while line != '':\n",
    "        #convert line to a float\n",
    "        amount = float(line)\n",
    "        \n",
    "        #format and display the amount\n",
    "        print(f'${amount:.2f}')\n",
    "        \n",
    "        #read the next line\n",
    "        line = sales_file.readline()\n",
    "        \n",
    "    #close the file\n",
    "    sales_file.close()\n",
    "\n",
    "# This program uses the for loop to read\n",
    "# all of the values in the sales.txt file.\n",
    "\n",
    "def for_read_file():\n",
    "    # Open the sales.txt file for reading.\n",
    "    sales_file = open('sales.txt', 'r')\n",
    "    \n",
    "    # Initialize an accumulator to 0.0.\n",
    "    total = 0.0\n",
    "    count = 0\n",
    "\n",
    "    # Read all the lines from the file.\n",
    "    for line in sales_file:\n",
    "        # Convert line to a float.\n",
    "        amount = float(line)\n",
    "        \n",
    "        count += 1\n",
    "        \n",
    "        # Format and display the amount.\n",
    "        #print(f'{amount:.2f}')\n",
    "        print('sales #', count, ': ', line, sep='')\n",
    "        \n",
    "        total += amount\n",
    "    print(f'the total amount of sales is: ${total:.2f}')\n",
    "\n",
    "    #Close the file.\n",
    "    sales_file.close()\n",
    "        \n",
    "\n",
    "def main():\n",
    "    \n",
    "    write_file()\n",
    "    print(\"\\n\")\n",
    "    for_read_file()\n",
    "    \n",
    "main()\n",
    "\n",
    "\n",
    "\n"
   ]
  },
  {
   "cell_type": "markdown",
   "id": "7c0c435f",
   "metadata": {},
   "source": [
    "for *variable* in *file_object*: <br>\n",
    "     -- statement <br>\n",
    "     -- statement <br> \n",
    "        -- etc."
   ]
  },
  {
   "cell_type": "markdown",
   "id": "7a827a40",
   "metadata": {},
   "source": [
    "## 6.3 Processing records"
   ]
  },
  {
   "cell_type": "markdown",
   "id": "9ea78b2d",
   "metadata": {},
   "source": [
    "A ***record*** is a\n",
    "complete set of data that describes one item, and a ***field*** is a single piece of data within a\n",
    "record."
   ]
  },
  {
   "cell_type": "code",
   "execution_count": 19,
   "id": "bd9fa64a",
   "metadata": {},
   "outputs": [
    {
     "name": "stdout",
     "output_type": "stream",
     "text": [
      "How many emp records do you want?: 3\n",
      "Enter data for employee #1\n",
      "Name: stan\n",
      "ID number: 1\n",
      "Department: cis\n",
      "\n",
      "Enter data for employee #2\n",
      "Name: hasn\n",
      "ID number: 2\n",
      "Department: cis\n",
      "\n",
      "Enter data for employee #3\n",
      "Name: moli\n",
      "ID number: 4\n",
      "Department: cis\n",
      "\n",
      "Employees records written to emp.txt\n",
      "\n",
      "Name: stan\n",
      "ID number: 1\n",
      "Department: cis\n",
      "\n",
      "Name: hasn\n",
      "ID number: 2\n",
      "Department: cis\n",
      "\n",
      "Name: moli\n",
      "ID number: 4\n",
      "Department: cis\n",
      "\n"
     ]
    }
   ],
   "source": [
    "# this program gets empl data from the user\n",
    "# and saves it as records in the emp.txt file\n",
    "\n",
    "def write_emp():\n",
    "    #fet the number of employee record to create\n",
    "    num_emps = int(input('How many emp records do you want?: '))\n",
    "    \n",
    "    #open a file for writing\n",
    "    emp_file = open('emp.txt','w')\n",
    "    \n",
    "    #get each emp data and write it to the file\n",
    "    for count in range(1, num_emps+1):\n",
    "        #get the data for an emp\n",
    "        print(f'Enter data for employee #{count}')\n",
    "        name = input('Name: ')\n",
    "        id_num = input('ID number: ')\n",
    "        dept = input('Department: ')\n",
    "        \n",
    "        #write the data as a record to the file\n",
    "        emp_file.write(f'{name}\\n')\n",
    "        emp_file.write(f'{id_num}\\n')\n",
    "        emp_file.write(f'{dept}\\n')\n",
    "        \n",
    "        #display a blank like\n",
    "        print()\n",
    "        \n",
    "    #close the file\n",
    "    emp_file.close()\n",
    "    print('Employees records written to emp.txt')\n",
    "\n",
    "def read_emp():\n",
    "    emp_file = open('emp.txt', 'r')\n",
    "    \n",
    "    #read the first line from the file as priming\n",
    "    name = emp_file.readline()\n",
    "    \n",
    "    #if a field was read continue processing\n",
    "    while name!= '':\n",
    "        #read the id number field\n",
    "        id_num = emp_file.readline()\n",
    "        \n",
    "        #read the department field\n",
    "        dept = emp_file.readline()\n",
    "        \n",
    "        #strip the newlines from the fields\n",
    "        name = name.rstrip('\\n')\n",
    "        id_num = id_num.rstrip('\\n')\n",
    "        dept = dept.rstrip('\\n')\n",
    "        \n",
    "        #display the record\n",
    "        print(f'Name: {name}')\n",
    "        print(f'ID number: {id_num}')\n",
    "        print(f'Department: {dept}')\n",
    "        print()\n",
    "        \n",
    "        #read the name field of the next record\n",
    "        name = emp_file.readline()\n",
    "        \n",
    "    #close the file\n",
    "    emp_file.close()\n",
    "\n",
    "def main():\n",
    "    write_emp()\n",
    "    print()\n",
    "    read_emp()\n",
    "    \n",
    "main()\n",
    "        \n",
    "        "
   ]
  },
  {
   "cell_type": "code",
   "execution_count": 20,
   "id": "866adda5",
   "metadata": {},
   "outputs": [
    {
     "name": "stdout",
     "output_type": "stream",
     "text": [
      "Enter the following coffee data: \n",
      "Description: Brazilian Dark Roast\n",
      "Quantity (in pounds): 34\n",
      "Do you want to add another record?\n",
      "Y = yes, anything else = no: y\n",
      "Enter the following coffee data: \n",
      "Description: Sumatra Medium Roast\n",
      "Quantity (in pounds): 25\n",
      "Do you want to add another record?\n",
      "Y = yes, anything else = no: n\n",
      "\n",
      "Description: Brazilian Dark Roast\n",
      "Quantity: 34.0\n",
      "Description: Sumatra Medium Roast\n",
      "Quantity: 25.0\n"
     ]
    }
   ],
   "source": [
    "def add_coffee_record():\n",
    "    #this program adds coffee inventory to coffee.txt file\n",
    "    \n",
    "    #creat a variable to control the loop\n",
    "    another = 'y'\n",
    "    \n",
    "    #open the coffee.txt file in append mode\n",
    "    coffee_file = open('coffee.txt', 'a')\n",
    "    \n",
    "    #add records to the file\n",
    "    while another == 'y' or another == \"Y\":\n",
    "        #get the coffee record data\n",
    "        print(\"Enter the following coffee data: \")\n",
    "        descr = input('Description: ')\n",
    "        qty = int(input('Quantity (in pounds): '))\n",
    "        \n",
    "        #append the data to the file\n",
    "        coffee_file.write(descr +'\\n')\n",
    "        coffee_file.write(f'{qty}\\n')\n",
    "        \n",
    "        #determine whether the user wants to add another record to the file\n",
    "        print('Do you want to add another record?')\n",
    "        another = input('Y = yes, anything else = no: ')\n",
    "        \n",
    "    #close the file\n",
    "    coffee_file.close()\n",
    "    \n",
    "def read_coffee_record():\n",
    "    #this program show the record\n",
    "    coffee_file = open(\"coffee.txt\", 'r')\n",
    "    \n",
    "    #read the first record description field\n",
    "    descr = coffee_file.readline()\n",
    "    \n",
    "    #read the rest of the file\n",
    "    while descr != '':\n",
    "        #read the quantity field\n",
    "        qty = float(coffee_file.readline())\n",
    "        \n",
    "        #stripe the \\n from the description\n",
    "        descr = descr.rstrip('\\n')\n",
    "        \n",
    "        #disply the record\n",
    "        print(f\"Description: {descr}\")\n",
    "        print(f\"Quantity: {qty}\")\n",
    "        \n",
    "        #read the next description\n",
    "        descr = coffee_file.readline()\n",
    "        \n",
    "    #close the file\n",
    "    coffee_file.close()\n",
    "    \n",
    "def main():\n",
    "    add_coffee_record()\n",
    "    print()\n",
    "    read_coffee_record()\n",
    "    \n",
    "main()\n",
    "    "
   ]
  },
  {
   "cell_type": "markdown",
   "id": "5ab1e127",
   "metadata": {},
   "source": [
    "## 6.4 Exceptions"
   ]
  },
  {
   "cell_type": "markdown",
   "id": "01cd00f6",
   "metadata": {},
   "source": [
    "The lengthy error message that is shown in the sample run is called a ***traceback***."
   ]
  },
  {
   "cell_type": "markdown",
   "id": "ac4d14af",
   "metadata": {
    "raw_mimetype": "text/html",
    "tags": [
     "try",
     "except"
    ]
   },
   "source": [
    "try:\n",
    "   >statement<br>\n",
    "   >statement<br>\n",
    "   >etc.<br>\n",
    "    \n",
    "except ***ExceptionName***:\n",
    "   >statement<br>\n",
    "   >statement<br>\n",
    "   >etc.<br>"
   ]
  },
  {
   "cell_type": "markdown",
   "id": "bb191f50",
   "metadata": {},
   "source": [
    "First, the keyword **try** appears, followed by a colon. Next, a code block appears which\n",
    "we will refer to as the **try suite**. The try suite is one or more statements that can potentially\n",
    "raise an exception.\n",
    "After the try suite, an except **clause** appears. The except clause begins with the keyword\n",
    "except, optionally followed by the name of an exception, and ending with a colon.\n",
    "Beginning on the next line is a block of statements that we will refer to as a **handler**."
   ]
  },
  {
   "cell_type": "markdown",
   "id": "70b2e25b",
   "metadata": {},
   "source": [
    "### IOError:\n",
    "IOError: [Errno 2] No such file or directory:\n",
    "### ValueError:\n",
    "ValueError: invalid literal for int() with base 10: 'forty'"
   ]
  },
  {
   "cell_type": "markdown",
   "id": "d121d0ed",
   "metadata": {},
   "source": [
    "When an exception is thrown, an object known as an **exception** object is created in memory."
   ]
  },
  {
   "cell_type": "markdown",
   "id": "69c2b88d",
   "metadata": {},
   "source": [
    "When you write an except clause, you can optionally\n",
    "assign the exception object to a variable, as shown here:\n",
    "\n",
    ">except ValueError as err:\n",
    "\n",
    "This except clause catches ValueError exceptions."
   ]
  },
  {
   "cell_type": "markdown",
   "id": "db7cb765",
   "metadata": {},
   "source": [
    "***try***:\n",
    ">statement<br>\n",
    ">statement<br>\n",
    ">etc.\n",
    "\n",
    "***except*** ***ExceptionName***:\n",
    ">statement<br>\n",
    ">statement<br>\n",
    ">etc.\n",
    "\n",
    "***finally***:\n",
    ">statement<br>\n",
    ">statement<br>\n",
    ">etc."
   ]
  },
  {
   "cell_type": "code",
   "execution_count": null,
   "id": "8bb81014",
   "metadata": {},
   "outputs": [],
   "source": []
  }
 ],
 "metadata": {
  "kernelspec": {
   "display_name": "Python 3",
   "language": "python",
   "name": "python3"
  },
  "language_info": {
   "codemirror_mode": {
    "name": "ipython",
    "version": 3
   },
   "file_extension": ".py",
   "mimetype": "text/x-python",
   "name": "python",
   "nbconvert_exporter": "python",
   "pygments_lexer": "ipython3",
   "version": "3.8.8"
  }
 },
 "nbformat": 4,
 "nbformat_minor": 5
}
