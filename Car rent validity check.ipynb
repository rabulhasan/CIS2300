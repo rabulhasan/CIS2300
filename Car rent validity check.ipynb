{
 "cells": [
  {
   "cell_type": "markdown",
   "id": "024bd6ef",
   "metadata": {},
   "source": [
    "## Car rent validity check"
   ]
  },
  {
   "cell_type": "markdown",
   "id": "dbb5ffb6",
   "metadata": {},
   "source": [
    "The following rules determines whether someone can rent a car.<br>\n",
    "The driver must have a valid license.<br>\n",
    "The driver must have a credit card or be willing to leave a $2,000 deposit.<br>\n",
    "the driver must be 18 or older. <br>\n",
    "Organize and indent the following code such that it asks the user to enter their license status (valid or not), credit card or cash deposit status and age. <br> If the age is greater than or equal to 18 and the other conditions are satisfied, then the applicant can rent an automobile."
   ]
  },
  {
   "cell_type": "code",
   "execution_count": 1,
   "id": "c4d5565a",
   "metadata": {},
   "outputs": [
    {
     "name": "stdout",
     "output_type": "stream",
     "text": [
      "Do you have a valid driver's license? (Enter Y or N): Y\n",
      "Do you have a valid credit card? (Enter Y or N): N\n",
      "You must leave a $2,000 deposit.  Will you do so? Y\n",
      "Enter your age: 18\n",
      "Rental approved\n"
     ]
    }
   ],
   "source": [
    "license = input(\"Do you have a valid driver's license? (Enter Y or N): \")\n",
    "denied = False    # prevents name error line 12  \n",
    "if license == \"Y\" or license == \"y\":\n",
    "    card = input(\"Do you have a valid credit card? (Enter Y or N): \") \n",
    "    if card == \"N\" or card == \"n\":\n",
    "        deposit = input(\"You must leave a $2,000 deposit.  Will you do so? \")\n",
    "        if deposit == \"N\" or deposit == \"n\":\n",
    "            denied = True     # no credit and no deposit\n",
    "else:\n",
    "    denied = True     # unlicensed\n",
    "    \n",
    "if not(denied):    \n",
    "    age = int(input(\"Enter your age: \"))\n",
    "    if (age >= 18):\n",
    "        print (\"Rental approved\")\n",
    "    else:       \n",
    "        denied = True     # below age 18\n",
    "if denied:\n",
    "    print (\"Rental denied\")"
   ]
  },
  {
   "cell_type": "code",
   "execution_count": null,
   "id": "c3b78063",
   "metadata": {},
   "outputs": [],
   "source": []
  }
 ],
 "metadata": {
  "kernelspec": {
   "display_name": "Python 3",
   "language": "python",
   "name": "python3"
  },
  "language_info": {
   "codemirror_mode": {
    "name": "ipython",
    "version": 3
   },
   "file_extension": ".py",
   "mimetype": "text/x-python",
   "name": "python",
   "nbconvert_exporter": "python",
   "pygments_lexer": "ipython3",
   "version": "3.8.8"
  }
 },
 "nbformat": 4,
 "nbformat_minor": 5
}
